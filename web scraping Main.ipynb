{
 "cells": [
  {
   "cell_type": "markdown",
   "metadata": {},
   "source": [
    "### 1. Importing Libraies"
   ]
  },
  {
   "cell_type": "code",
   "execution_count": 619,
   "metadata": {},
   "outputs": [],
   "source": [
    "import csv\n",
    "import re\n",
    "import pandas as pd\n",
    "import requests # Used to fetch web content using HTTP requests\n",
    "from urllib.request import urlopen, Request, HTTPError\n",
    "from bs4 import BeautifulSoup # Used to parse the HTML content of web pages\n",
    "from collections import defaultdict\n",
    "from fake_useragent import UserAgent"
   ]
  },
  {
   "cell_type": "markdown",
   "metadata": {},
   "source": [
    "### 2. Parsing Using Beautiful Soup\n",
    "#### I am trying to extract all the brand names and the url's to related to that brand in the below code "
   ]
  },
  {
   "cell_type": "code",
   "execution_count": 622,
   "metadata": {},
   "outputs": [],
   "source": [
    "url = 'https://www.worldofwatches.com/mens-watches'\n",
    "response = requests.get(url)\n",
    "soup = BeautifulSoup(response.text, 'html.parser')\n",
    "result = soup.find_all(class_= 'filter-options-content')"
   ]
  },
  {
   "cell_type": "code",
   "execution_count": 623,
   "metadata": {},
   "outputs": [
    {
     "data": {
      "text/plain": [
       "bs4.BeautifulSoup"
      ]
     },
     "execution_count": 623,
     "metadata": {},
     "output_type": "execute_result"
    }
   ],
   "source": [
    "type(soup)"
   ]
  },
  {
   "cell_type": "code",
   "execution_count": null,
   "metadata": {},
   "outputs": [],
   "source": [
    "### Iterate through all the rows and parse the row with 'a' tag\n",
    "for row in result:\n",
    "    brand_name_list = row.find_all('a')\n",
    "    print (brand_name_list)"
   ]
  },
  {
   "cell_type": "code",
   "execution_count": null,
   "metadata": {},
   "outputs": [],
   "source": [
    "### Way no.2\n",
    "for row in result:\n",
    "        brand_name_list=brand_name_list + row.find_all('a')\n",
    "        print (brand_name_list)"
   ]
  },
  {
   "cell_type": "code",
   "execution_count": null,
   "metadata": {},
   "outputs": [],
   "source": [
    "### We can use the prettify method to turn a BS parse tree into a nicely formatted Unicode string\n",
    "for artist_name in brand_name_list:\n",
    "    print(artist_name.prettify())"
   ]
  },
  {
   "cell_type": "code",
   "execution_count": null,
   "metadata": {},
   "outputs": [],
   "source": [
    "### Extracting all the brand names into \n",
    "for artist_name in brand_name_list:\n",
    "    names = artist_name.contents[0]\n",
    "    print(names)"
   ]
  },
  {
   "cell_type": "code",
   "execution_count": null,
   "metadata": {},
   "outputs": [],
   "source": [
    "### Creating a file with headers\n",
    "f = csv.writer(open('watch-brand-names.csv', 'w'))\n",
    "f.writerow(['Name', 'Link'])"
   ]
  },
  {
   "cell_type": "code",
   "execution_count": null,
   "metadata": {},
   "outputs": [],
   "source": [
    "### Writing the names and links into the file\n",
    "for artist_name in brand_name_list:\n",
    "    names = artist_name.contents[0].strip()\n",
    "    links = artist_name.get('href')\n",
    "    f.writerow([names, links])"
   ]
  },
  {
   "cell_type": "code",
   "execution_count": 2,
   "metadata": {},
   "outputs": [],
   "source": [
    "### Importing the data from the file into a pandas dataframe\n",
    "import pandas as pd\n",
    "test = pd.read_csv('watch-brand-names.csv')"
   ]
  },
  {
   "cell_type": "code",
   "execution_count": 3,
   "metadata": {},
   "outputs": [
    {
     "data": {
      "text/html": [
       "<div>\n",
       "<style scoped>\n",
       "    .dataframe tbody tr th:only-of-type {\n",
       "        vertical-align: middle;\n",
       "    }\n",
       "\n",
       "    .dataframe tbody tr th {\n",
       "        vertical-align: top;\n",
       "    }\n",
       "\n",
       "    .dataframe thead th {\n",
       "        text-align: right;\n",
       "    }\n",
       "</style>\n",
       "<table border=\"1\" class=\"dataframe\">\n",
       "  <thead>\n",
       "    <tr style=\"text-align: right;\">\n",
       "      <th></th>\n",
       "      <th>Name</th>\n",
       "      <th>Link</th>\n",
       "    </tr>\n",
       "  </thead>\n",
       "  <tbody>\n",
       "    <tr>\n",
       "      <th>0</th>\n",
       "      <td>Bracelet</td>\n",
       "      <td>https://www.worldofwatches.com/mens-watches?ba...</td>\n",
       "    </tr>\n",
       "    <tr>\n",
       "      <th>1</th>\n",
       "      <td>Strap</td>\n",
       "      <td>https://www.worldofwatches.com/mens-watches?ba...</td>\n",
       "    </tr>\n",
       "    <tr>\n",
       "      <th>2</th>\n",
       "      <td>NaN</td>\n",
       "      <td>https://www.worldofwatches.com/mens-watches?pr...</td>\n",
       "    </tr>\n",
       "    <tr>\n",
       "      <th>3</th>\n",
       "      <td>NaN</td>\n",
       "      <td>https://www.worldofwatches.com/mens-watches?pr...</td>\n",
       "    </tr>\n",
       "    <tr>\n",
       "      <th>4</th>\n",
       "      <td>NaN</td>\n",
       "      <td>https://www.worldofwatches.com/mens-watches?pr...</td>\n",
       "    </tr>\n",
       "  </tbody>\n",
       "</table>\n",
       "</div>"
      ],
      "text/plain": [
       "       Name                                               Link\n",
       "0  Bracelet  https://www.worldofwatches.com/mens-watches?ba...\n",
       "1     Strap  https://www.worldofwatches.com/mens-watches?ba...\n",
       "2       NaN  https://www.worldofwatches.com/mens-watches?pr...\n",
       "3       NaN  https://www.worldofwatches.com/mens-watches?pr...\n",
       "4       NaN  https://www.worldofwatches.com/mens-watches?pr..."
      ]
     },
     "execution_count": 3,
     "metadata": {},
     "output_type": "execute_result"
    }
   ],
   "source": [
    "test.head()"
   ]
  },
  {
   "cell_type": "markdown",
   "metadata": {},
   "source": [
    "#### Along with the brand names and the links some extra data was also extracted. I will be removing that data "
   ]
  },
  {
   "cell_type": "code",
   "execution_count": 4,
   "metadata": {},
   "outputs": [
    {
     "data": {
      "text/html": [
       "<div>\n",
       "<style scoped>\n",
       "    .dataframe tbody tr th:only-of-type {\n",
       "        vertical-align: middle;\n",
       "    }\n",
       "\n",
       "    .dataframe tbody tr th {\n",
       "        vertical-align: top;\n",
       "    }\n",
       "\n",
       "    .dataframe thead th {\n",
       "        text-align: right;\n",
       "    }\n",
       "</style>\n",
       "<table border=\"1\" class=\"dataframe\">\n",
       "  <thead>\n",
       "    <tr style=\"text-align: right;\">\n",
       "      <th></th>\n",
       "      <th>Name</th>\n",
       "      <th>Link</th>\n",
       "    </tr>\n",
       "  </thead>\n",
       "  <tbody>\n",
       "    <tr>\n",
       "      <th>109</th>\n",
       "      <td>William L 1985</td>\n",
       "      <td>https://www.worldofwatches.com/mens-watches?ma...</td>\n",
       "    </tr>\n",
       "  </tbody>\n",
       "</table>\n",
       "</div>"
      ],
      "text/plain": [
       "               Name                                               Link\n",
       "109  William L 1985  https://www.worldofwatches.com/mens-watches?ma..."
      ]
     },
     "execution_count": 4,
     "metadata": {},
     "output_type": "execute_result"
    }
   ],
   "source": [
    "test.loc[test['Name'] == 'William L 1985']"
   ]
  },
  {
   "cell_type": "code",
   "execution_count": 5,
   "metadata": {},
   "outputs": [],
   "source": [
    "test=test[12:110]"
   ]
  },
  {
   "cell_type": "code",
   "execution_count": 6,
   "metadata": {},
   "outputs": [
    {
     "data": {
      "text/html": [
       "<div>\n",
       "<style scoped>\n",
       "    .dataframe tbody tr th:only-of-type {\n",
       "        vertical-align: middle;\n",
       "    }\n",
       "\n",
       "    .dataframe tbody tr th {\n",
       "        vertical-align: top;\n",
       "    }\n",
       "\n",
       "    .dataframe thead th {\n",
       "        text-align: right;\n",
       "    }\n",
       "</style>\n",
       "<table border=\"1\" class=\"dataframe\">\n",
       "  <thead>\n",
       "    <tr style=\"text-align: right;\">\n",
       "      <th></th>\n",
       "      <th>Name</th>\n",
       "      <th>Link</th>\n",
       "    </tr>\n",
       "  </thead>\n",
       "  <tbody>\n",
       "    <tr>\n",
       "      <th>12</th>\n",
       "      <td>a_line</td>\n",
       "      <td>https://www.worldofwatches.com/mens-watches?ma...</td>\n",
       "    </tr>\n",
       "    <tr>\n",
       "      <th>13</th>\n",
       "      <td>Adee Kaye</td>\n",
       "      <td>https://www.worldofwatches.com/mens-watches?ma...</td>\n",
       "    </tr>\n",
       "    <tr>\n",
       "      <th>14</th>\n",
       "      <td>Akribos XXIV</td>\n",
       "      <td>https://www.worldofwatches.com/mens-watches?ma...</td>\n",
       "    </tr>\n",
       "    <tr>\n",
       "      <th>15</th>\n",
       "      <td>Alpina</td>\n",
       "      <td>https://www.worldofwatches.com/mens-watches?ma...</td>\n",
       "    </tr>\n",
       "    <tr>\n",
       "      <th>16</th>\n",
       "      <td>Anne Klein</td>\n",
       "      <td>https://www.worldofwatches.com/mens-watches?ma...</td>\n",
       "    </tr>\n",
       "  </tbody>\n",
       "</table>\n",
       "</div>"
      ],
      "text/plain": [
       "            Name                                               Link\n",
       "12        a_line  https://www.worldofwatches.com/mens-watches?ma...\n",
       "13     Adee Kaye  https://www.worldofwatches.com/mens-watches?ma...\n",
       "14  Akribos XXIV  https://www.worldofwatches.com/mens-watches?ma...\n",
       "15        Alpina  https://www.worldofwatches.com/mens-watches?ma...\n",
       "16    Anne Klein  https://www.worldofwatches.com/mens-watches?ma..."
      ]
     },
     "execution_count": 6,
     "metadata": {},
     "output_type": "execute_result"
    }
   ],
   "source": [
    "test.dropna().head()"
   ]
  },
  {
   "cell_type": "markdown",
   "metadata": {},
   "source": [
    "#### Now we have all the brand names and their respective links in a data frame. \n",
    "#### I will create a for loop which will iterate through all the brand name links and will store the page URL's under each brand"
   ]
  },
  {
   "cell_type": "markdown",
   "metadata": {},
   "source": [
    "### Part 2\n",
    "#### 3. Extracting page url's under each brand"
   ]
  },
  {
   "cell_type": "code",
   "execution_count": null,
   "metadata": {},
   "outputs": [],
   "source": [
    "### Extracting all pages url's for a single main url\n",
    "url = 'https://www.worldofwatches.com/mens-watches?manufacturer=492'\n",
    "response = requests.get(url)\n",
    "soup = BeautifulSoup(response.text, 'html.parser')\n",
    "result = soup.find_all('a', {'class': 'page'})\n",
    "result"
   ]
  },
  {
   "cell_type": "code",
   "execution_count": 10,
   "metadata": {},
   "outputs": [],
   "source": [
    "brands_page = []\n",
    "for r in result:\n",
    "    brands_page.append(r.attrs['href'])\n",
    "brands_page.append(url)"
   ]
  },
  {
   "cell_type": "code",
   "execution_count": 11,
   "metadata": {},
   "outputs": [
    {
     "data": {
      "text/plain": [
       "'https://www.worldofwatches.com/mens-watches?manufacturer=492'"
      ]
     },
     "execution_count": 11,
     "metadata": {},
     "output_type": "execute_result"
    }
   ],
   "source": [
    "url"
   ]
  },
  {
   "cell_type": "code",
   "execution_count": 12,
   "metadata": {},
   "outputs": [
    {
     "data": {
      "text/plain": [
       "['https://www.worldofwatches.com/mens-watches?manufacturer=492&p=2',\n",
       " 'https://www.worldofwatches.com/mens-watches?manufacturer=492&p=3',\n",
       " 'https://www.worldofwatches.com/mens-watches?manufacturer=492&p=4',\n",
       " 'https://www.worldofwatches.com/mens-watches?manufacturer=492&p=5',\n",
       " 'https://www.worldofwatches.com/mens-watches?manufacturer=492&p=2',\n",
       " 'https://www.worldofwatches.com/mens-watches?manufacturer=492&p=3',\n",
       " 'https://www.worldofwatches.com/mens-watches?manufacturer=492&p=4',\n",
       " 'https://www.worldofwatches.com/mens-watches?manufacturer=492&p=5',\n",
       " 'https://www.worldofwatches.com/mens-watches?manufacturer=492']"
      ]
     },
     "execution_count": 12,
     "metadata": {},
     "output_type": "execute_result"
    }
   ],
   "source": [
    "### Seems like there are duplicate url's under same brand name\n",
    "brands_page"
   ]
  },
  {
   "cell_type": "code",
   "execution_count": 13,
   "metadata": {},
   "outputs": [
    {
     "data": {
      "text/plain": [
       "list"
      ]
     },
     "execution_count": 13,
     "metadata": {},
     "output_type": "execute_result"
    }
   ],
   "source": [
    "type(brands_page)"
   ]
  },
  {
   "cell_type": "code",
   "execution_count": 14,
   "metadata": {},
   "outputs": [],
   "source": [
    "### This will remove the duplicate url's\n",
    "mylist = list(set(brands_page))"
   ]
  },
  {
   "cell_type": "code",
   "execution_count": 15,
   "metadata": {},
   "outputs": [
    {
     "data": {
      "text/plain": [
       "['https://www.worldofwatches.com/mens-watches?manufacturer=492&p=2',\n",
       " 'https://www.worldofwatches.com/mens-watches?manufacturer=492',\n",
       " 'https://www.worldofwatches.com/mens-watches?manufacturer=492&p=4',\n",
       " 'https://www.worldofwatches.com/mens-watches?manufacturer=492&p=3',\n",
       " 'https://www.worldofwatches.com/mens-watches?manufacturer=492&p=5']"
      ]
     },
     "execution_count": 15,
     "metadata": {},
     "output_type": "execute_result"
    }
   ],
   "source": [
    "mylist"
   ]
  },
  {
   "cell_type": "markdown",
   "metadata": {},
   "source": [
    "#### 3. Extracting link of all products on a screen"
   ]
  },
  {
   "cell_type": "code",
   "execution_count": null,
   "metadata": {},
   "outputs": [],
   "source": [
    "result=[]\n",
    "url = 'https://www.worldofwatches.com/mens-watches?manufacturer=492'\n",
    "response = requests.get(url)\n",
    "soup = BeautifulSoup(response.text, 'html.parser')\n",
    "result = soup.find_all('a', {'class': 'product photo product-item-photo'})\n",
    "result"
   ]
  },
  {
   "cell_type": "code",
   "execution_count": 17,
   "metadata": {},
   "outputs": [],
   "source": [
    "watch_info = []\n",
    "for r in result:\n",
    "    watch_info.append(r.attrs['href'])"
   ]
  },
  {
   "cell_type": "code",
   "execution_count": 629,
   "metadata": {},
   "outputs": [
    {
     "data": {
      "text/plain": [
       "['https://www.worldofwatches.com/mens-don-giovanni-chronograph-leather-black-dial-raymond-weil-rw-4878-stc-00200',\n",
       " 'https://www.worldofwatches.com/mens-freelancer-calfskin-leather-black-dial-raymond-weil-rw-2780-sc5-20001',\n",
       " 'https://www.worldofwatches.com/mens-freelancer-42mm-automatic-stainless-steel-black-dial-rw-2740-st-20021',\n",
       " 'https://www.worldofwatches.com/mens-freelancer-acdc-leather-black-dial-raymond-weil-rw-2780-stc-acdc1',\n",
       " 'https://www.worldofwatches.com/mens-freelancer-auto-chrono-black-genuine-leather-grey-dial-rw-7730-stc-60112',\n",
       " 'https://www.worldofwatches.com/mens-freelancer-auto-chrono-black-leather-grey-dial-rw-7745-tic-05659',\n",
       " 'https://www.worldofwatches.com/mens-freelancer-auto-chrono-stainless-steel-ivory-dial-rw-7730-st-65025',\n",
       " 'https://www.worldofwatches.com/mens-freelancer-automatic-black-genuine-leather-black-dial-ss-rw-2740-stc-20021',\n",
       " 'https://www.worldofwatches.com/mens-freelancer-automatic-chrono-brown-genuine-leather-titanium-dial-rw-7745-tic-05609',\n",
       " 'https://www.worldofwatches.com/mens-freelancer-automatic-chronograph-black-dial-brown-genuine-leather-rw-7730-stc-20021',\n",
       " 'https://www.worldofwatches.com/mens-freelancer-automatic-chronograph-black-dial-stainless-steel-rw-7730-st-20021',\n",
       " 'https://www.worldofwatches.com/mens-freelancer-automatic-chronograph-silver-dial-brown-genuine-leather-rw-7730-stc-65025',\n",
       " 'https://www.worldofwatches.com/mens-freelancer-automatic-chronograph-titanium-bracelet-gunmetal-dial-rw-7745-ti-05659',\n",
       " 'https://www.worldofwatches.com/mens-freelancer-automatic-silver-dial-stainless-steel-rw-2827-st-00659',\n",
       " 'https://www.worldofwatches.com/mens-freelancer-automatic-ss-and-rose-tone-ss-grey-dial-ss-rw-2740-sp5-60021',\n",
       " 'https://www.worldofwatches.com/mens-freelancer-automatic-ss-and-rose-tone-ss-silver-tone-dial-ss-rw-2770-sp5-65011',\n",
       " 'https://www.worldofwatches.com/mens-freelancer-automatic-two-tone-stainless-steel-black-dial-rw-2730-sp5-20011',\n",
       " 'https://www.worldofwatches.com/mens-freelancer-automatic-two-tone-stainless-steel-black-dial-ss-rw-2740-sp5-20011',\n",
       " 'https://www.worldofwatches.com/mens-freelancer-calfskin-leather-black-dial-raymond-weil-rw-2780-stc-20001',\n",
       " 'https://www.worldofwatches.com/mens-freelancer-chronograph-calfskin-leather-silver-dial-raymond-weil-rw-7731-sc2-65655',\n",
       " 'https://www.worldofwatches.com/mens-freelancer-chronograph-leather-black-dial-raymond-weil-rw-7740-stc-lpaul',\n",
       " 'https://www.worldofwatches.com/mens-freelancer-chronograph-leather-black-dial-raymond-weil-rw-7731-sc1-20121',\n",
       " 'https://www.worldofwatches.com/mens-freelancer-chronograph-leather-black-dial-raymond-weil-rw-7731-stc-20021',\n",
       " 'https://www.worldofwatches.com/mens-freelancer-chronograph-leather-black-dial-raymond-weil-rw-7731-sc1-20621']"
      ]
     },
     "execution_count": 629,
     "metadata": {},
     "output_type": "execute_result"
    }
   ],
   "source": [
    "watch_info"
   ]
  },
  {
   "cell_type": "code",
   "execution_count": 24,
   "metadata": {},
   "outputs": [],
   "source": [
    "### Trying to extract all the watch links on a single page\n",
    "url = 'https://www.worldofwatches.com/mens-watches?manufacturer=492'\n",
    "response = requests.get(url)\n",
    "soup = BeautifulSoup(response.text, 'html.parser')\n",
    "result = soup.find_all('a', {'class': 'product photo product-item-photo'})\n",
    "perfume_url_list = []\n",
    "for m  in mylist:\n",
    "    result=[]\n",
    "    url=m\n",
    "    response = requests.get(url)\n",
    "    soup = BeautifulSoup(response.text, 'html.parser')\n",
    "    result = soup.find_all('a', {'class': 'product photo product-item-photo'})\n",
    "    for r in result:\n",
    "        perfume_url_list.append(r.attrs['href'])\n",
    "with open('perfumes.csv','w') as resultFile: # go through each page, fetch watch urls and store to csv\n",
    "    wr = csv.writer(resultFile, dialect='excel')\n",
    "    wr.writerow(perfume_url_list)"
   ]
  },
  {
   "cell_type": "code",
   "execution_count": null,
   "metadata": {},
   "outputs": [],
   "source": [
    "perfume_url_list"
   ]
  },
  {
   "cell_type": "code",
   "execution_count": 62,
   "metadata": {},
   "outputs": [],
   "source": [
    "link=test['Link']"
   ]
  },
  {
   "cell_type": "code",
   "execution_count": 119,
   "metadata": {},
   "outputs": [
    {
     "data": {
      "text/plain": [
       "98"
      ]
     },
     "execution_count": 119,
     "metadata": {},
     "output_type": "execute_result"
    }
   ],
   "source": [
    "link.count()"
   ]
  },
  {
   "cell_type": "code",
   "execution_count": 120,
   "metadata": {},
   "outputs": [],
   "source": [
    "for l1 in link: \n",
    "    result = []\n",
    "    soup = []\n",
    "    url = l1\n",
    "    response = requests.get(url)\n",
    "    soup = BeautifulSoup(response.text, 'html.parser')\n",
    "    result = soup.find_all('a', {'class': 'page'})\n",
    "    brands_page = []\n",
    "    for r in result:\n",
    "        brands_page.append(r.attrs['href'])\n",
    "        brands_page.append(url)\n",
    "    mylist = list(set(brands_page))\n",
    "    mylist1.extend(mylist)"
   ]
  },
  {
   "cell_type": "code",
   "execution_count": 121,
   "metadata": {},
   "outputs": [
    {
     "data": {
      "text/plain": [
       "449"
      ]
     },
     "execution_count": 121,
     "metadata": {},
     "output_type": "execute_result"
    }
   ],
   "source": [
    "len(mylist1)"
   ]
  },
  {
   "cell_type": "code",
   "execution_count": 127,
   "metadata": {},
   "outputs": [],
   "source": [
    "for page in mylist1:\n",
    "    url1 = page\n",
    "    response = requests.get(url1)\n",
    "    soup = BeautifulSoup(response.text, 'html.parser')\n",
    "    result = soup.find_all('a', {'class': 'product photo product-item-photo'})\n",
    "    for r in result:\n",
    "        perfume_url_list1 = []\n",
    "        perfume_url_list1.append(r.attrs['href'])\n",
    "        with open('brands_and_links1.csv','a') as resultFile: # go through each page, fetch perfume urls and store to csv\n",
    "            wr = csv.writer(resultFile)\n",
    "            wr.writerow(perfume_url_list1)"
   ]
  },
  {
   "cell_type": "code",
   "execution_count": null,
   "metadata": {},
   "outputs": [],
   "source": [
    "for page in mylist1:\n",
    "    url1 = page\n",
    "    response = requests.get(url1)\n",
    "    soup = BeautifulSoup(response.text, 'html.parser')\n",
    "    result = soup.find_all('a', {'class': 'product photo product-item-photo'})\n",
    "    perfume_url_list1 = []\n",
    "    for m  in mylist1:\n",
    "        result=[]\n",
    "        url=m\n",
    "        response = requests.get(url)\n",
    "        soup = BeautifulSoup(response.text, 'html.parser')\n",
    "        result = soup.find_all('a', {'class': 'product photo product-item-photo'})\n",
    "    for r in result:\n",
    "        perfume_url_list1.append(r.attrs['href'])\n",
    "    with open('brands_and_links.csv','a') as resultFile: # go through each page, fetch perfume urls and store to csv\n",
    "        wr = csv.writer(resultFile,delimiter=',')\n",
    "        wr.writerow(perfume_url_list1)"
   ]
  },
  {
   "cell_type": "code",
   "execution_count": 116,
   "metadata": {},
   "outputs": [
    {
     "data": {
      "text/plain": [
       "['https://www.worldofwatches.com/mens-vintage-leather-black-dial-william-l-1985-wlmwloj03nrojcm',\n",
       " 'https://www.worldofwatches.com/mens-vintage-leather-black-dial-william-l-1985-wlmwloj03nrojcn',\n",
       " 'https://www.worldofwatches.com/mens-vintage-leather-black-dial-william-l-1985-wlmwlac03nrcn',\n",
       " 'https://www.worldofwatches.com/mens-vintage-leather-black-dial-william-l-1985-wlmwlac03nrcm',\n",
       " 'https://www.worldofwatches.com/mens-vintage-leather-cream-dial-william-l-1985-wlmwlor03bcorcm',\n",
       " 'https://www.worldofwatches.com/mens-vintage-leather-cream-dial-william-l-1985-wlmwlac03bcorcn',\n",
       " 'https://www.worldofwatches.com/mens-vintage-leather-cream-dial-william-l-1985-wlmwlac03bcorcm',\n",
       " 'https://www.worldofwatches.com/mens-vintage-leather-white-dial-william-l-1985-wlmwlac03bocn',\n",
       " 'https://www.worldofwatches.com/mens-vintage-leather-white-dial-william-l-1985-wlmwlac03bocm',\n",
       " 'https://www.worldofwatches.com/mens-vintage-stainless-steel-mesh-black-dial-william-l-1985-wlmwlac03nrmm']"
      ]
     },
     "execution_count": 116,
     "metadata": {},
     "output_type": "execute_result"
    }
   ],
   "source": [
    "perfume_url_list1"
   ]
  },
  {
   "cell_type": "code",
   "execution_count": 473,
   "metadata": {},
   "outputs": [],
   "source": [
    "import pandas as pd\n",
    "Data= pd.read_csv('brands_and_links1.csv',header=None)"
   ]
  },
  {
   "cell_type": "code",
   "execution_count": 474,
   "metadata": {},
   "outputs": [
    {
     "data": {
      "text/html": [
       "<div>\n",
       "<style scoped>\n",
       "    .dataframe tbody tr th:only-of-type {\n",
       "        vertical-align: middle;\n",
       "    }\n",
       "\n",
       "    .dataframe tbody tr th {\n",
       "        vertical-align: top;\n",
       "    }\n",
       "\n",
       "    .dataframe thead th {\n",
       "        text-align: right;\n",
       "    }\n",
       "</style>\n",
       "<table border=\"1\" class=\"dataframe\">\n",
       "  <thead>\n",
       "    <tr style=\"text-align: right;\">\n",
       "      <th></th>\n",
       "      <th>0</th>\n",
       "    </tr>\n",
       "  </thead>\n",
       "  <tbody>\n",
       "    <tr>\n",
       "      <th>0</th>\n",
       "      <td>https://www.worldofwatches.com/mens-chronograp...</td>\n",
       "    </tr>\n",
       "    <tr>\n",
       "      <th>1</th>\n",
       "      <td>https://www.worldofwatches.com/mens-chronograp...</td>\n",
       "    </tr>\n",
       "    <tr>\n",
       "      <th>2</th>\n",
       "      <td>https://www.worldofwatches.com/mens-chronograp...</td>\n",
       "    </tr>\n",
       "    <tr>\n",
       "      <th>3</th>\n",
       "      <td>https://www.worldofwatches.com/mens-dome-stain...</td>\n",
       "    </tr>\n",
       "    <tr>\n",
       "      <th>4</th>\n",
       "      <td>https://www.worldofwatches.com/mens-g2-silicon...</td>\n",
       "    </tr>\n",
       "  </tbody>\n",
       "</table>\n",
       "</div>"
      ],
      "text/plain": [
       "                                                   0\n",
       "0  https://www.worldofwatches.com/mens-chronograp...\n",
       "1  https://www.worldofwatches.com/mens-chronograp...\n",
       "2  https://www.worldofwatches.com/mens-chronograp...\n",
       "3  https://www.worldofwatches.com/mens-dome-stain...\n",
       "4  https://www.worldofwatches.com/mens-g2-silicon..."
      ]
     },
     "execution_count": 474,
     "metadata": {},
     "output_type": "execute_result"
    }
   ],
   "source": [
    "Data.head()"
   ]
  },
  {
   "cell_type": "code",
   "execution_count": 476,
   "metadata": {},
   "outputs": [],
   "source": [
    "Data1=Data[0]"
   ]
  },
  {
   "cell_type": "code",
   "execution_count": 477,
   "metadata": {},
   "outputs": [],
   "source": [
    "mylist = list(set(Data1))"
   ]
  },
  {
   "cell_type": "code",
   "execution_count": 478,
   "metadata": {},
   "outputs": [
    {
     "data": {
      "text/plain": [
       "4800"
      ]
     },
     "execution_count": 478,
     "metadata": {},
     "output_type": "execute_result"
    }
   ],
   "source": [
    "len(mylist)"
   ]
  },
  {
   "cell_type": "markdown",
   "metadata": {},
   "source": [
    "#### Successfully extracted 4800 links of all the men's watches on world of watches wesbite"
   ]
  },
  {
   "cell_type": "markdown",
   "metadata": {},
   "source": [
    "### Part 3.\n",
    "### Extracting features of all the watches"
   ]
  },
  {
   "cell_type": "code",
   "execution_count": 158,
   "metadata": {},
   "outputs": [
    {
     "data": {
      "text/plain": [
       "[<th class=\"col label\" scope=\"row\">Band Type</th>,\n",
       " <th class=\"col label\" scope=\"row\">Band Width</th>,\n",
       " <th class=\"col label\" scope=\"row\">Bezel Material</th>,\n",
       " <th class=\"col label\" scope=\"row\">Calendar</th>,\n",
       " <th class=\"col label\" scope=\"row\">Case Back</th>,\n",
       " <th class=\"col label\" scope=\"row\">Case Diameter</th>,\n",
       " <th class=\"col label\" scope=\"row\">Case Material</th>,\n",
       " <th class=\"col label\" scope=\"row\">Case Shape</th>,\n",
       " <th class=\"col label\" scope=\"row\">Case Thickness</th>,\n",
       " <th class=\"col label\" scope=\"row\">Clasp</th>,\n",
       " <th class=\"col label\" scope=\"row\">Crystal</th>,\n",
       " <th class=\"col label\" scope=\"row\">Dial Color</th>,\n",
       " <th class=\"col label\" scope=\"row\">Dial Type</th>,\n",
       " <th class=\"col label\" scope=\"row\">Engine</th>,\n",
       " <th class=\"col label\" scope=\"row\">Features</th>,\n",
       " <th class=\"col label\" scope=\"row\">Functions</th>,\n",
       " <th class=\"col label\" scope=\"row\">Gender</th>,\n",
       " <th class=\"col label\" scope=\"row\">Hands</th>,\n",
       " <th class=\"col label\" scope=\"row\">Luminiscence</th>,\n",
       " <th class=\"col label\" scope=\"row\">Brand</th>,\n",
       " <th class=\"col label\" scope=\"row\">Manufacture Country</th>,\n",
       " <th class=\"col label\" scope=\"row\">Model</th>,\n",
       " <th class=\"col label\" scope=\"row\">Movement</th>,\n",
       " <th class=\"col label\" scope=\"row\">Series</th>,\n",
       " <th class=\"col label\" scope=\"row\">Style</th>,\n",
       " <th class=\"col label\" scope=\"row\">Product Category</th>,\n",
       " <th class=\"col label\" scope=\"row\">Sub Dials</th>,\n",
       " <th class=\"col label\" scope=\"row\">UPC Code</th>,\n",
       " <th class=\"col label\" scope=\"row\">Warranty</th>,\n",
       " <th class=\"col label\" scope=\"row\">Water Resistance</th>,\n",
       " <th class=\"col label\" scope=\"row\">SKU</th>]"
      ]
     },
     "execution_count": 158,
     "metadata": {},
     "output_type": "execute_result"
    }
   ],
   "source": [
    "url = 'https://www.worldofwatches.com/mens-vintage-chronograph-leather-white-dial-william-l-1985-wlmwlac01bcorbm'\n",
    "response = requests.get(url)\n",
    "soup = BeautifulSoup(response.text, 'html.parser')\n",
    "result = soup.find_all('div', {'class': 'product-info-price'})\n",
    "result1 = soup.find_all('div', {'class': 'additional-attributes-wrapper table-wrapper'})\n",
    "result1    "
   ]
  },
  {
   "cell_type": "code",
   "execution_count": 155,
   "metadata": {},
   "outputs": [
    {
     "name": "stdout",
     "output_type": "stream",
     "text": [
      "Band Type\n",
      "Band Width\n",
      "Bezel Material\n",
      "Calendar\n",
      "Case Back\n",
      "Case Diameter\n",
      "Case Material\n",
      "Case Shape\n",
      "Case Thickness\n",
      "Clasp\n",
      "Crystal\n",
      "Dial Color\n",
      "Dial Type\n",
      "Engine\n",
      "Features\n",
      "Functions\n",
      "Gender\n",
      "Hands\n",
      "Luminiscence\n",
      "Brand\n",
      "Manufacture Country\n",
      "Model\n",
      "Movement\n",
      "Series\n",
      "Style\n",
      "Product Category\n",
      "Sub Dials\n",
      "UPC Code\n",
      "Warranty\n",
      "Water Resistance\n",
      "SKU\n"
     ]
    }
   ],
   "source": [
    "for artist_name in brand_name_list:\n",
    "    names = artist_name.contents[0]\n",
    "    print(names)"
   ]
  },
  {
   "cell_type": "code",
   "execution_count": 181,
   "metadata": {},
   "outputs": [
    {
     "name": "stdout",
     "output_type": "stream",
     "text": [
      "Strap\n",
      "20 mm\n",
      "Fixed\n",
      "Date display between the 4 and 5 o'clock positions\n",
      "Solid\n",
      "40 mm\n",
      "Stainless Steel\n",
      "Round\n",
      "10 mm\n",
      "Tang\n",
      "Scratch Resistant Mineral\n",
      "White\n",
      "Analog\n",
      "Miyota Caliber 6S21\n",
      "Calendar, Chronograph, Gold, Leather, Stainless Steel\n",
      "Chronograph, Telemeter, Tachymenter,  Date, Hour, Minute, Second\n",
      "Mens\n",
      "Rose Gold-tone\n",
      "Hands\n",
      "William L 1985\n",
      "Japan Movt\n",
      "WLAC01BCORBM\n",
      "Quartz\n",
      "Vintage\n",
      "Dress Watches\n",
      "Watches\n",
      "Two - 60 Second and 60 Minute\n",
      "3760256220146\n",
      "With Manufacturers Guarantee\n",
      "50 meters / 165 feet\n",
      "WLMWLAC01BCORBM\n"
     ]
    }
   ],
   "source": [
    "names=[]\n",
    "for artist_name in brand_name_list:\n",
    "    names1 = artist_name.contents[0]\n",
    "    names.append(names1)\n",
    "    print(names1)"
   ]
  },
  {
   "cell_type": "code",
   "execution_count": null,
   "metadata": {},
   "outputs": [],
   "source": [
    "for i in mylist:\n",
    "    url = i\n",
    "    response = requests.get(url)\n",
    "    soup = BeautifulSoup(response.text, 'html.parser')\n",
    "    result1 = soup.find_all('td', {'class': 'col data'})\n",
    "    feat1=[]\n",
    "    for F in result1:\n",
    "        feat = F.contents[0].strip()\n",
    "        feat1.append(feat)\n",
    "    feat1.append(url)\n",
    "    with open('features2.csv','a') as csvfile:\n",
    "        spamwriter = csv.writer(csvfile, delimiter=',')   \n",
    "        spamwriter.writerow(feat1)"
   ]
  },
  {
   "cell_type": "code",
   "execution_count": 159,
   "metadata": {},
   "outputs": [
    {
     "data": {
      "text/plain": [
       "321"
      ]
     },
     "execution_count": 159,
     "metadata": {},
     "output_type": "execute_result"
    }
   ],
   "source": [
    "f = csv.writer(open('features.csv', 'w'))\n",
    "f.writerow(['Url','Band Type','Band Width','Bezel Material','Calendar','Case Back','Case Diameter','Case Material','Case Shape','Case Thickness','Clasp','Crystal','Dial Color',\n",
    "            'Dial Type','Engine','Features','Functions','Gender','Hands','Luminiscence','Brand','Manufacture Country','Model','Movement','Series','Style','Product Category',\n",
    "            'Sub Dials','UPC Code','Warranty','Water Resistance','SKU'])"
   ]
  },
  {
   "cell_type": "code",
   "execution_count": 530,
   "metadata": {},
   "outputs": [],
   "source": [
    "names=(['URL','Product Name', 'Product Description','original Price', 'Discounted Price','Discount','Availability','Band Type','Band Width','Bezel Material','Calendar','Case Back','Case Diameter','Case Material','Case Shape','Case Thickness','Clasp','Crystal','Dial Color',\n",
    "            'Dial Type','Engine','Features','Functions','Gender','Hands','Luminiscence','Brand','Manufacture Country','Model','Movement','Series','Style','Product Category',\n",
    "            'Sub Dials','UPC Code','Warranty','Water Resistance','SKU'])"
   ]
  },
  {
   "cell_type": "code",
   "execution_count": 403,
   "metadata": {},
   "outputs": [],
   "source": [
    "for i in names:\n",
    "    name=(''+i+'')\n",
    "    "
   ]
  },
  {
   "cell_type": "code",
   "execution_count": 404,
   "metadata": {},
   "outputs": [
    {
     "data": {
      "text/plain": [
       "'SKU'"
      ]
     },
     "execution_count": 404,
     "metadata": {},
     "output_type": "execute_result"
    }
   ],
   "source": [
    "name"
   ]
  },
  {
   "cell_type": "code",
   "execution_count": null,
   "metadata": {},
   "outputs": [],
   "source": [
    "for i in names:\n",
    "    a=(''+i+'')\n",
    "    data[i]=soup.find('td', {'data-th': ''+i+''}).text.strip()\n",
    "    print (data)"
   ]
  },
  {
   "cell_type": "code",
   "execution_count": 413,
   "metadata": {},
   "outputs": [],
   "source": [
    "data:=soup.find('td',{'data-th':''+a+''}).text.strip()"
   ]
  },
  {
   "cell_type": "code",
   "execution_count": 581,
   "metadata": {},
   "outputs": [],
   "source": [
    "data=pd.DataFrame(columns=names)"
   ]
  },
  {
   "cell_type": "code",
   "execution_count": 582,
   "metadata": {},
   "outputs": [
    {
     "data": {
      "text/html": [
       "<div>\n",
       "<style scoped>\n",
       "    .dataframe tbody tr th:only-of-type {\n",
       "        vertical-align: middle;\n",
       "    }\n",
       "\n",
       "    .dataframe tbody tr th {\n",
       "        vertical-align: top;\n",
       "    }\n",
       "\n",
       "    .dataframe thead th {\n",
       "        text-align: right;\n",
       "    }\n",
       "</style>\n",
       "<table border=\"1\" class=\"dataframe\">\n",
       "  <thead>\n",
       "    <tr style=\"text-align: right;\">\n",
       "      <th></th>\n",
       "      <th>URL</th>\n",
       "      <th>Product Name</th>\n",
       "      <th>Product Description</th>\n",
       "      <th>original Price</th>\n",
       "      <th>Discounted Price</th>\n",
       "      <th>Discount</th>\n",
       "      <th>Availability</th>\n",
       "      <th>Band Type</th>\n",
       "      <th>Band Width</th>\n",
       "      <th>Bezel Material</th>\n",
       "      <th>...</th>\n",
       "      <th>Model</th>\n",
       "      <th>Movement</th>\n",
       "      <th>Series</th>\n",
       "      <th>Style</th>\n",
       "      <th>Product Category</th>\n",
       "      <th>Sub Dials</th>\n",
       "      <th>UPC Code</th>\n",
       "      <th>Warranty</th>\n",
       "      <th>Water Resistance</th>\n",
       "      <th>SKU</th>\n",
       "    </tr>\n",
       "  </thead>\n",
       "  <tbody>\n",
       "  </tbody>\n",
       "</table>\n",
       "<p>0 rows × 38 columns</p>\n",
       "</div>"
      ],
      "text/plain": [
       "Empty DataFrame\n",
       "Columns: [URL, Product Name, Product Description, original Price, Discounted Price, Discount, Availability, Band Type, Band Width, Bezel Material, Calendar, Case Back, Case Diameter, Case Material, Case Shape, Case Thickness, Clasp, Crystal, Dial Color, Dial Type, Engine, Features, Functions, Gender, Hands, Luminiscence, Brand, Manufacture Country, Model, Movement, Series, Style, Product Category, Sub Dials, UPC Code, Warranty, Water Resistance, SKU]\n",
       "Index: []\n",
       "\n",
       "[0 rows x 38 columns]"
      ]
     },
     "execution_count": 582,
     "metadata": {},
     "output_type": "execute_result"
    }
   ],
   "source": [
    "data"
   ]
  },
  {
   "cell_type": "code",
   "execution_count": null,
   "metadata": {},
   "outputs": [],
   "source": [
    "data['Band Type'].values='strap'"
   ]
  },
  {
   "cell_type": "code",
   "execution_count": 466,
   "metadata": {},
   "outputs": [],
   "source": [
    "### Just trying to iterate through all the names and getting the respective feature of all the watches\n",
    "\n",
    "for i in names:\n",
    "    BandType=soup.find('td', {'data-th': 'Band Type'}).text.strip()\n",
    "    BandWidth=soup.find('td', {'data-th': 'Band Width'}).text.strip()\n",
    "    BezelMaterial=soup.find('td', {'data-th': 'Bezel Material'}).text.strip()\n",
    "    Calendar=soup.find('td', {'data-th': 'Calendar'}).text.strip()\n",
    "    CaseBack=soup.find('td', {'data-th': 'Case Back'}).text.strip()\n",
    "    CaseDiameter=soup.find('td', {'data-th': 'Case Diameter'}).text.strip()\n",
    "    CaseMaterial=soup.find('td', {'data-th': 'Case Material'}).text.strip()\n",
    "    CaseShape=soup.find('td', {'data-th': 'Case Shape'}).text.strip()\n",
    "    CaseThickness=soup.find('td', {'data-th': 'Case Thickness'}).text.strip()\n",
    "    Clasp=soup.find('td', {'data-th': 'Clasp'}).text.strip()\n",
    "    Crystal=soup.find('td', {'data-th': 'Crystal'}).text.strip()\n",
    "    DialColor=soup.find('td', {'data-th': 'Dial Color'}).text.strip()\n",
    "    DialType=soup.find('td', {'data-th': 'Dial Type'}).text.strip()\n",
    "    Engine=soup.find('td', {'data-th': 'Engine'}).text.strip()\n",
    "    Features=soup.find('td', {'data-th': 'Features'}).text.strip()\n",
    "    Functions=soup.find('td', {'data-th': 'Functions'}).text.strip()\n",
    "    Gender=soup.find('td', {'data-th': 'Gender'}).text.strip()\n",
    "    Hands=soup.find('td', {'data-th': 'Hands'}).text.strip()\n",
    "    Luminiscence=soup.find('td', {'data-th': 'Luminiscence'}).text.strip()\n",
    "    Brand=soup.find('td', {'data-th': 'Brand'}).text.strip()\n",
    "    ManufactureCountry=soup.find('td', {'data-th': 'Manufacture Country'}).text.strip()\n",
    "    Model=soup.find('td', {'data-th': 'Model'}).text.strip()\n",
    "    Movement=soup.find('td', {'data-th': 'Movement'}).text.strip()\n",
    "    Series=soup.find('td', {'data-th': 'Series'}).text.strip()\n",
    "    Style=soup.find('td', {'data-th': 'Style'}).text.strip()\n",
    "    ProductCategory=soup.find('td', {'data-th': 'Product Category'}).text.strip()\n",
    "    SubDials=soup.find('td', {'data-th': 'Sub Dials'}).text.strip()\n",
    "    UPCCode=soup.find('td', {'data-th': 'UPC Code'}).text.strip()\n",
    "    Warranty=soup.find('td', {'data-th': 'Warranty'}).text.strip()\n",
    "    WaterResistance=soup.find('td', {'data-th': 'Water Resistance'}).text.strip()\n",
    "    SKU=soup.find('td', {'data-th': 'SKU'}).text.strip()\n",
    "data=data.append({'Band Type': BandType,'Band Width': BandWidth,'Bezel Material':BezelMaterial,'Calendar':Calendar,'Case Back':CaseBack,'Case Diameter':CaseDiameter,'Case Material':CaseMaterial,\n",
    "                  'Case Shape':CaseShape,'Case Thickness':CaseThickness,'Clasp':Clasp,'Crystal':Crystal,'Dial Color':DialColor,'Dial Type':DialType,'Engine':Engine,'Features':Features,\n",
    "                  'Functions':Functions,'Gender':Gender,'Hands':Hands,'Luminiscence':Luminiscence,'Brand':Brand,'Manufacture Country':ManufactureCountry,'Model':Model,'Movement':Movement,\n",
    "                'Series':Series,'Style':Style,'Product Category':ProductCategory,'Sub Dials':SubDials,'UPC Code':UPCCode,'Warranty':Warranty,'Water Resistance':WaterResistance,'SKU':SKU}, ignore_index=True)\n"
   ]
  },
  {
   "cell_type": "markdown",
   "metadata": {},
   "source": [
    "### Below is the complete code of iterating through all the url's and extracting the features of each and every watch"
   ]
  },
  {
   "cell_type": "code",
   "execution_count": null,
   "metadata": {},
   "outputs": [],
   "source": [
    "\n",
    "data=pd.DataFrame(columns=names)\n",
    "for link in mylist:\n",
    "    result=[]\n",
    "    result1=[]\n",
    "    response=[]\n",
    "    url = link\n",
    "    print (url)\n",
    "    response = requests.get(url)\n",
    "    soup = BeautifulSoup(response.text, 'html.parser')\n",
    "    result = soup.find_all('div', {'class': 'product-info-main'})\n",
    "    result1 = soup.find_all('td', {'class': 'col data'})\n",
    "    for i in result1:\n",
    "        BandType=soup.find('td', {'data-th': 'Band Type'})\n",
    "        if BandType is not None:\n",
    "            BandType=soup.find('td', {'data-th': 'Band Type'}).text.strip()\n",
    "        BandWidth=soup.find('td', {'data-th': 'Band Width'})\n",
    "        if BandWidth is not None:\n",
    "            BandWidth=soup.find('td', {'data-th': 'Band Width'}).text.strip()\n",
    "        BezelMaterial=soup.find('td', {'data-th': 'Bezel Material'})\n",
    "        if BezelMaterial is not None:\n",
    "            BezelMaterial=soup.find('td', {'data-th': 'Bezel Material'}).text.strip()\n",
    "        Calendar=soup.find('td', {'data-th': 'Calendar'})\n",
    "        if Calendar is not None:\n",
    "            Calendar=soup.find('td', {'data-th': 'Calendar'}).text.strip()\n",
    "        CaseBack=soup.find('td', {'data-th': 'Case Back'})\n",
    "        if CaseBack is not None:\n",
    "            CaseBack=soup.find('td', {'data-th': 'Case Back'}).text.strip()\n",
    "        CaseDiameter=soup.find('td', {'data-th': 'Case Diameter'})\n",
    "        if CaseDiameter is not None:\n",
    "            CaseDiameter=soup.find('td', {'data-th': 'Case Diameter'}).text.strip()\n",
    "        CaseMaterial=soup.find('td', {'data-th': 'Case Material'})\n",
    "        if CaseMaterial is not None:\n",
    "            CaseMaterial=soup.find('td', {'data-th': 'Case Material'}).text.strip()\n",
    "        CaseShape=soup.find('td', {'data-th': 'Case Shape'})\n",
    "        if CaseShape is not None:\n",
    "            CaseShape=soup.find('td', {'data-th': 'Case Shape'}).text.strip()\n",
    "        CaseThickness=soup.find('td', {'data-th': 'Case Thickness'})\n",
    "        if CaseThickness is not None:\n",
    "            CaseThickness=soup.find('td', {'data-th': 'Case Thickness'}).text.strip()\n",
    "        Clasp=soup.find('td', {'data-th': 'Clasp'})\n",
    "        if Clasp is not None:\n",
    "            Clasp=soup.find('td', {'data-th': 'Clasp'}).text.strip()\n",
    "        Crystal=soup.find('td', {'data-th': 'Crystal'})\n",
    "        if Crystal is not None:\n",
    "            Crystal=soup.find('td', {'data-th': 'Crystal'}).text.strip()\n",
    "        DialColor=soup.find('td', {'data-th': 'Dial Color'})\n",
    "        if DialColor is not None:\n",
    "            DialColor=soup.find('td', {'data-th': 'Dial Color'}).text.strip()\n",
    "        DialType=soup.find('td', {'data-th': 'Dial Type'})\n",
    "        if DialType is not None:\n",
    "            DialType=soup.find('td', {'data-th': 'Dial Type'}).text.strip()\n",
    "        Engine=soup.find('td', {'data-th': 'Engine'})\n",
    "        if Engine is not None:\n",
    "            Engine=soup.find('td', {'data-th': 'Engine'}).text.strip()\n",
    "        Features=soup.find('td', {'data-th': 'Features'})\n",
    "        if Features is not None:\n",
    "             Features=soup.find('td', {'data-th': 'Features'}).text.strip()\n",
    "        Functions=soup.find('td', {'data-th': 'Functions'})\n",
    "        if Functions is not None:\n",
    "            Functions=soup.find('td', {'data-th': 'Functions'}).text.strip()\n",
    "        Gender=soup.find('td', {'data-th': 'Gender'})\n",
    "        if Gender is not None:\n",
    "            Gender=soup.find('td', {'data-th': 'Gender'}).text.strip()\n",
    "        Hands=soup.find('td', {'data-th': 'Hands'})\n",
    "        if Hands is not None:\n",
    "            Hands=soup.find('td', {'data-th': 'Hands'}).text.strip()\n",
    "        Luminiscence=soup.find('td', {'data-th': 'Luminiscence'})\n",
    "        if Luminiscence is not None:\n",
    "            Luminiscence=soup.find('td', {'data-th': 'Luminiscence'}).text.strip()\n",
    "        Brand=soup.find('td', {'data-th': 'Brand'})\n",
    "        if Brand is not None:\n",
    "            Brand=soup.find('td', {'data-th': 'Brand'}).text.strip()\n",
    "        ManufactureCountry=soup.find('td', {'data-th': 'Manufacture Country'})\n",
    "        if ManufactureCountry is not None:\n",
    "            ManufactureCountry=soup.find('td', {'data-th': 'Manufacture Country'}).text.strip()\n",
    "        Model=soup.find('td', {'data-th': 'Model'})\n",
    "        if Model is not None:\n",
    "            Model=soup.find('td', {'data-th': 'Model'}).text.strip()\n",
    "        Movement=soup.find('td', {'data-th': 'Movement'})\n",
    "        if Movement is not None:\n",
    "            Movement=soup.find('td', {'data-th': 'Movement'}).text.strip()\n",
    "        Series=soup.find('td', {'data-th': 'Series'})\n",
    "        if Series is not None:\n",
    "            Series=soup.find('td', {'data-th': 'Series'}).text.strip()\n",
    "        Style=soup.find('td', {'data-th': 'Style'})\n",
    "        if Style is not None:\n",
    "            Style=soup.find('td', {'data-th': 'Style'}).text.strip()\n",
    "        ProductCategory=soup.find('td', {'data-th': 'Product Category'})\n",
    "        if ProductCategory is not None:\n",
    "            ProductCategory=soup.find('td', {'data-th': 'Product Category'}).text.strip()\n",
    "        SubDials=soup.find('td', {'data-th': 'Sub Dials'})\n",
    "        if SubDials is not None:\n",
    "            SubDials=soup.find('td', {'data-th': 'Sub Dials'}).text.strip()\n",
    "        UPCCode=soup.find('td', {'data-th': 'UPC Code'})\n",
    "        if UPCCode is not None:\n",
    "            UPCCode=soup.find('td', {'data-th': 'UPC Code'}).text.strip()\n",
    "        Warranty=soup.find('td', {'data-th': 'Warranty'})\n",
    "        if Warranty is not None:\n",
    "            Warranty=soup.find('td', {'data-th': 'Warranty'}).text.strip()\n",
    "        WaterResistance=soup.find('td', {'data-th': 'Water Resistance'})\n",
    "        if WaterResistance is not None:\n",
    "            WaterResistance=soup.find('td', {'data-th': 'Water Resistance'}).text.strip()\n",
    "        SKU=soup.find('td', {'data-th': 'SKU'})\n",
    "        if SKU is not None:\n",
    "            SKU=soup.find('td', {'data-th': 'SKU'}).text.strip()\n",
    "    for a in result:\n",
    "        ProductName=soup.find('span', {'class': 'page-title product-manufacturer'})\n",
    "        if ProductName is not None:\n",
    "            ProductName=soup.find('span', {'class': 'page-title product-manufacturer'}).text.strip()\n",
    "        ProductDesc=soup.find('span', {'class': 'product-name'})\n",
    "        if ProductDesc is not None:\n",
    "            ProductDesc=soup.find('span', {'class': 'product-name'}).text.strip()\n",
    "        Price=soup.find('span',{'class': 'price msrp-price-value'})\n",
    "        if Price is not None:\n",
    "            Price=soup.find('span',{'class': 'price msrp-price-value'}).text.strip()\n",
    "        DiscPrice=soup.find('span',{'class': 'price-wrapper'})\n",
    "        if DiscPrice is not None:\n",
    "            DiscPrice=soup.find('span',{'class': 'price-wrapper'}).text.strip()\n",
    "        Discount=soup.find('div',{'class': 'price-savings price-container'})\n",
    "        if Discount is not None:\n",
    "            Discount=soup.find('div',{'class': 'price-savings price-container'}).text.strip()\n",
    "        Availability=soup.find('p',{'class': 'shipping_availability'})\n",
    "        if Availability is not None:\n",
    "            Availability=soup.find('p',{'class': 'shipping_availability'}).text.strip()\n",
    "    data=data.append({'URL':url,'Product Name':ProductName,'Product Description':ProductDesc,'original Price':Price,'Discounted Price':DiscPrice,'Discount':Discount,'Availability':Availability,\n",
    "                    'Band Type': BandType,'Band Width': BandWidth,'Bezel Material':BezelMaterial,'Calendar':Calendar,'Case Back':CaseBack,'Case Diameter':CaseDiameter,'Case Material':CaseMaterial,\n",
    "                  'Case Shape':CaseShape,'Case Thickness':CaseThickness,'Clasp':Clasp,'Crystal':Crystal,'Dial Color':DialColor,'Dial Type':DialType,'Engine':Engine,'Features':Features,\n",
    "                  'Functions':Functions,'Gender':Gender,'Hands':Hands,'Luminiscence':Luminiscence,'Brand':Brand,'Manufacture Country':ManufactureCountry,'Model':Model,'Movement':Movement,\n",
    "                'Series':Series,'Style':Style,'Product Category':ProductCategory,'Sub Dials':SubDials,'UPC Code':UPCCode,'Warranty':Warranty,'Water Resistance':WaterResistance,'SKU':SKU}, ignore_index=True)"
   ]
  },
  {
   "cell_type": "code",
   "execution_count": 632,
   "metadata": {},
   "outputs": [
    {
     "data": {
      "text/html": [
       "<div>\n",
       "<style scoped>\n",
       "    .dataframe tbody tr th:only-of-type {\n",
       "        vertical-align: middle;\n",
       "    }\n",
       "\n",
       "    .dataframe tbody tr th {\n",
       "        vertical-align: top;\n",
       "    }\n",
       "\n",
       "    .dataframe thead th {\n",
       "        text-align: right;\n",
       "    }\n",
       "</style>\n",
       "<table border=\"1\" class=\"dataframe\">\n",
       "  <thead>\n",
       "    <tr style=\"text-align: right;\">\n",
       "      <th></th>\n",
       "      <th>URL</th>\n",
       "      <th>Product Name</th>\n",
       "      <th>Product Description</th>\n",
       "      <th>original Price</th>\n",
       "      <th>Discounted Price</th>\n",
       "      <th>Discount</th>\n",
       "      <th>Availability</th>\n",
       "      <th>Band Type</th>\n",
       "      <th>Band Width</th>\n",
       "      <th>Bezel Material</th>\n",
       "      <th>...</th>\n",
       "      <th>Model</th>\n",
       "      <th>Movement</th>\n",
       "      <th>Series</th>\n",
       "      <th>Style</th>\n",
       "      <th>Product Category</th>\n",
       "      <th>Sub Dials</th>\n",
       "      <th>UPC Code</th>\n",
       "      <th>Warranty</th>\n",
       "      <th>Water Resistance</th>\n",
       "      <th>SKU</th>\n",
       "    </tr>\n",
       "  </thead>\n",
       "  <tbody>\n",
       "    <tr>\n",
       "      <th>0</th>\n",
       "      <td>https://www.worldofwatches.com/mens-dome-stain...</td>\n",
       "      <td>Adee Kaye</td>\n",
       "      <td>Men's Dome Stainless Steel Silver Dial</td>\n",
       "      <td>$345.00</td>\n",
       "      <td>$123.98</td>\n",
       "      <td>Savings:\\n64%</td>\n",
       "      <td>Usually Ships In 1 - 3 Business Days</td>\n",
       "      <td>Bracelet</td>\n",
       "      <td>22 mm</td>\n",
       "      <td>Fixed Rose Gold-tone</td>\n",
       "      <td>...</td>\n",
       "      <td>AK8224-LRGWT</td>\n",
       "      <td>Quartz</td>\n",
       "      <td>Dome</td>\n",
       "      <td>Dress Watches</td>\n",
       "      <td>Watches</td>\n",
       "      <td>None</td>\n",
       "      <td>814019021068</td>\n",
       "      <td>With Manufacturers Guarantee</td>\n",
       "      <td>50 meters / 165 feet</td>\n",
       "      <td>AKY-AK8224LRGWT</td>\n",
       "    </tr>\n",
       "    <tr>\n",
       "      <th>1</th>\n",
       "      <td>https://www.worldofwatches.com/mens-classic-ch...</td>\n",
       "      <td>Bulova</td>\n",
       "      <td>Men's Classic Chronograph Stainless Steel Blac...</td>\n",
       "      <td>$450.00</td>\n",
       "      <td>$197.98</td>\n",
       "      <td>Savings:\\n56%</td>\n",
       "      <td>In Stock - Available for Immediate Shipment!</td>\n",
       "      <td>Bracelet</td>\n",
       "      <td>None</td>\n",
       "      <td>Fixed</td>\n",
       "      <td>...</td>\n",
       "      <td>96B288</td>\n",
       "      <td>Quartz</td>\n",
       "      <td>Classic</td>\n",
       "      <td>Casual Watches</td>\n",
       "      <td>Watches</td>\n",
       "      <td>Three - 60 Second, 60 Minute and 1/10th of a S...</td>\n",
       "      <td>042429557413</td>\n",
       "      <td>2 Year WatchCenter Warranty</td>\n",
       "      <td>30 meters / 100 feet</td>\n",
       "      <td>BUL96B288</td>\n",
       "    </tr>\n",
       "    <tr>\n",
       "      <th>2</th>\n",
       "      <td>https://www.worldofwatches.com/mens-piccard-le...</td>\n",
       "      <td>Heritor</td>\n",
       "      <td>Men's Piccard Leather White Dial</td>\n",
       "      <td>$1,400.00</td>\n",
       "      <td>$521.99</td>\n",
       "      <td>Savings:\\n63%</td>\n",
       "      <td>Usually Ships In 1 - 3 Business Days</td>\n",
       "      <td>Strap</td>\n",
       "      <td>24 mm</td>\n",
       "      <td>Fixed Fluted Gold-tone</td>\n",
       "      <td>...</td>\n",
       "      <td>HR2003</td>\n",
       "      <td>Automatic</td>\n",
       "      <td>Piccard</td>\n",
       "      <td>Dress Watches</td>\n",
       "      <td>Watches</td>\n",
       "      <td>Two: Day of the Week and Date</td>\n",
       "      <td>847864126831</td>\n",
       "      <td>With Manufacturers Guarantee</td>\n",
       "      <td>50 meters / 165 feet</td>\n",
       "      <td>HRT-HR2003</td>\n",
       "    </tr>\n",
       "    <tr>\n",
       "      <th>3</th>\n",
       "      <td>https://www.worldofwatches.com/mens-coil-leath...</td>\n",
       "      <td>Equipe Tritium</td>\n",
       "      <td>Men's Coil Leather Orange Dial</td>\n",
       "      <td>$599.00</td>\n",
       "      <td>$222.98</td>\n",
       "      <td>Savings:\\n63%</td>\n",
       "      <td>Usually Ships In 1 - 3 Business Days</td>\n",
       "      <td>Strap</td>\n",
       "      <td>30 mm</td>\n",
       "      <td>None</td>\n",
       "      <td>...</td>\n",
       "      <td>ET109</td>\n",
       "      <td>Quartz</td>\n",
       "      <td>Coil</td>\n",
       "      <td>Sport Watches</td>\n",
       "      <td>Watches</td>\n",
       "      <td>Two - Date and Day</td>\n",
       "      <td>847864057388</td>\n",
       "      <td>With Manufacturers Guarantee</td>\n",
       "      <td>200 meters / 660 feet</td>\n",
       "      <td>EQUET109</td>\n",
       "    </tr>\n",
       "    <tr>\n",
       "      <th>4</th>\n",
       "      <td>https://www.worldofwatches.com/bosphorus-black...</td>\n",
       "      <td>Lucien Piccard</td>\n",
       "      <td>Bosphorus Black Genuine Leather Blue and Silve...</td>\n",
       "      <td>$645.00</td>\n",
       "      <td>$63.98</td>\n",
       "      <td>Savings:\\n90%</td>\n",
       "      <td>In Stock - Available for Immediate Shipment!</td>\n",
       "      <td>Strap</td>\n",
       "      <td>20 mm</td>\n",
       "      <td>None</td>\n",
       "      <td>...</td>\n",
       "      <td>LP-40046-RG-03-SC</td>\n",
       "      <td>Quartz</td>\n",
       "      <td>Bosphorus</td>\n",
       "      <td>Dress Watches</td>\n",
       "      <td>Watches</td>\n",
       "      <td>60 second</td>\n",
       "      <td>722630521433</td>\n",
       "      <td>2 Year WatchCenter Warranty</td>\n",
       "      <td>30 meters / 100 feet</td>\n",
       "      <td>LP-40046-RG-03-SC</td>\n",
       "    </tr>\n",
       "  </tbody>\n",
       "</table>\n",
       "<p>5 rows × 38 columns</p>\n",
       "</div>"
      ],
      "text/plain": [
       "                                                 URL    Product Name  \\\n",
       "0  https://www.worldofwatches.com/mens-dome-stain...       Adee Kaye   \n",
       "1  https://www.worldofwatches.com/mens-classic-ch...          Bulova   \n",
       "2  https://www.worldofwatches.com/mens-piccard-le...         Heritor   \n",
       "3  https://www.worldofwatches.com/mens-coil-leath...  Equipe Tritium   \n",
       "4  https://www.worldofwatches.com/bosphorus-black...  Lucien Piccard   \n",
       "\n",
       "                                 Product Description original Price  \\\n",
       "0             Men's Dome Stainless Steel Silver Dial        $345.00   \n",
       "1  Men's Classic Chronograph Stainless Steel Blac...        $450.00   \n",
       "2                   Men's Piccard Leather White Dial      $1,400.00   \n",
       "3                     Men's Coil Leather Orange Dial        $599.00   \n",
       "4  Bosphorus Black Genuine Leather Blue and Silve...        $645.00   \n",
       "\n",
       "  Discounted Price       Discount  \\\n",
       "0          $123.98  Savings:\\n64%   \n",
       "1          $197.98  Savings:\\n56%   \n",
       "2          $521.99  Savings:\\n63%   \n",
       "3          $222.98  Savings:\\n63%   \n",
       "4           $63.98  Savings:\\n90%   \n",
       "\n",
       "                                   Availability Band Type Band Width  \\\n",
       "0          Usually Ships In 1 - 3 Business Days  Bracelet      22 mm   \n",
       "1  In Stock - Available for Immediate Shipment!  Bracelet       None   \n",
       "2          Usually Ships In 1 - 3 Business Days     Strap      24 mm   \n",
       "3          Usually Ships In 1 - 3 Business Days     Strap      30 mm   \n",
       "4  In Stock - Available for Immediate Shipment!     Strap      20 mm   \n",
       "\n",
       "           Bezel Material        ...                      Model   Movement  \\\n",
       "0    Fixed Rose Gold-tone        ...               AK8224-LRGWT     Quartz   \n",
       "1                   Fixed        ...                     96B288     Quartz   \n",
       "2  Fixed Fluted Gold-tone        ...                     HR2003  Automatic   \n",
       "3                    None        ...                      ET109     Quartz   \n",
       "4                    None        ...          LP-40046-RG-03-SC     Quartz   \n",
       "\n",
       "      Series           Style Product Category  \\\n",
       "0       Dome   Dress Watches          Watches   \n",
       "1    Classic  Casual Watches          Watches   \n",
       "2    Piccard   Dress Watches          Watches   \n",
       "3       Coil   Sport Watches          Watches   \n",
       "4  Bosphorus   Dress Watches          Watches   \n",
       "\n",
       "                                           Sub Dials      UPC Code  \\\n",
       "0                                               None  814019021068   \n",
       "1  Three - 60 Second, 60 Minute and 1/10th of a S...  042429557413   \n",
       "2                      Two: Day of the Week and Date  847864126831   \n",
       "3                                 Two - Date and Day  847864057388   \n",
       "4                                          60 second  722630521433   \n",
       "\n",
       "                       Warranty       Water Resistance                SKU  \n",
       "0  With Manufacturers Guarantee   50 meters / 165 feet    AKY-AK8224LRGWT  \n",
       "1   2 Year WatchCenter Warranty   30 meters / 100 feet          BUL96B288  \n",
       "2  With Manufacturers Guarantee   50 meters / 165 feet         HRT-HR2003  \n",
       "3  With Manufacturers Guarantee  200 meters / 660 feet           EQUET109  \n",
       "4   2 Year WatchCenter Warranty   30 meters / 100 feet  LP-40046-RG-03-SC  \n",
       "\n",
       "[5 rows x 38 columns]"
      ]
     },
     "execution_count": 632,
     "metadata": {},
     "output_type": "execute_result"
    }
   ],
   "source": [
    "data.head()"
   ]
  },
  {
   "cell_type": "code",
   "execution_count": 616,
   "metadata": {},
   "outputs": [],
   "source": [
    "# Create a Pandas Excel writer using XlsxWriter as the engine.\n",
    "writer = pd.ExcelWriter('Main.xlsx', engine='xlsxwriter')"
   ]
  },
  {
   "cell_type": "code",
   "execution_count": 617,
   "metadata": {},
   "outputs": [],
   "source": [
    "# Convert the dataframe to an XlsxWriter Excel object.\n",
    "data.to_excel(writer, sheet_name='Sheet1')"
   ]
  },
  {
   "cell_type": "code",
   "execution_count": 618,
   "metadata": {},
   "outputs": [],
   "source": [
    "# Close the Pandas Excel writer and output the Excel file.\n",
    "writer.save()"
   ]
  },
  {
   "cell_type": "markdown",
   "metadata": {},
   "source": [
    "### Successfully stored features of all the watches into an excel file"
   ]
  },
  {
   "cell_type": "code",
   "execution_count": null,
   "metadata": {},
   "outputs": [],
   "source": []
  }
 ],
 "metadata": {
  "kernelspec": {
   "display_name": "Python 3",
   "language": "python",
   "name": "python3"
  },
  "language_info": {
   "codemirror_mode": {
    "name": "ipython",
    "version": 3
   },
   "file_extension": ".py",
   "mimetype": "text/x-python",
   "name": "python",
   "nbconvert_exporter": "python",
   "pygments_lexer": "ipython3",
   "version": "3.6.5"
  }
 },
 "nbformat": 4,
 "nbformat_minor": 2
}
